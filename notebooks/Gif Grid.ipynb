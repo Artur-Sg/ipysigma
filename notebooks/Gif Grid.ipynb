{
 "cells": [
  {
   "cell_type": "code",
   "execution_count": 1,
   "id": "df578966-babb-45e6-9cad-c969ec727542",
   "metadata": {},
   "outputs": [],
   "source": [
    "import networkx as nx\n",
    "from ipysigma import SigmaGrid"
   ]
  },
  {
   "cell_type": "code",
   "execution_count": 2,
   "id": "384ecfe6-5f2c-4150-8923-c54e11f98df6",
   "metadata": {},
   "outputs": [],
   "source": [
    "g = nx.read_gexf('./data/rio.gexf')"
   ]
  },
  {
   "cell_type": "code",
   "execution_count": 8,
   "id": "0ed6fbdd-5806-4cbb-a927-db149a5d4422",
   "metadata": {},
   "outputs": [
    {
     "data": {
      "application/vnd.jupyter.widget-view+json": {
       "model_id": "bf41e393cc544cc2b5e05260e05a586c",
       "version_major": 2,
       "version_minor": 0
      },
      "text/plain": [
       "VBox(children=(HBox(children=(Sigma(nx.DiGraph with 366 nodes and 1,107 edges), Sigma(nx.DiGraph with 366 node…"
      ]
     },
     "metadata": {},
     "output_type": "display_data"
    }
   ],
   "source": [
    "SigmaGrid(g, height=400, hide_search=True, views=[{'node_color': 'Language'}, {}])"
   ]
  }
 ],
 "metadata": {
  "kernelspec": {
   "display_name": "Python 3",
   "language": "python",
   "name": "python3"
  },
  "language_info": {
   "codemirror_mode": {
    "name": "ipython",
    "version": 3
   },
   "file_extension": ".py",
   "mimetype": "text/x-python",
   "name": "python",
   "nbconvert_exporter": "python",
   "pygments_lexer": "ipython3",
   "version": "3.6.12"
  }
 },
 "nbformat": 4,
 "nbformat_minor": 5
}
