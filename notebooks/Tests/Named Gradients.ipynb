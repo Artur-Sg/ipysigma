{
 "cells": [
  {
   "cell_type": "code",
   "execution_count": 1,
   "id": "e85389cd-9b02-4b3b-add1-3442271dedf2",
   "metadata": {},
   "outputs": [],
   "source": [
    "import networkx as nx\n",
    "from ipysigma import Sigma"
   ]
  },
  {
   "cell_type": "code",
   "execution_count": 2,
   "id": "b76af2bc-322f-40f6-8b1c-d4561cd92470",
   "metadata": {},
   "outputs": [],
   "source": [
    "g = nx.read_gexf('../data/arctic.gexf')"
   ]
  },
  {
   "cell_type": "code",
   "execution_count": 16,
   "id": "ebad64eb-022d-4c37-95ae-24a66c6cde3f",
   "metadata": {},
   "outputs": [
    {
     "data": {
      "application/vnd.jupyter.widget-view+json": {
       "model_id": "27f85554cfe749e78084cc2436299b67",
       "version_major": 2,
       "version_minor": 0
      },
      "text/plain": [
       "Sigma(nx.DiGraph with 1,715 nodes and 6,676 edges)"
      ]
     },
     "metadata": {},
     "output_type": "display_data"
    }
   ],
   "source": [
    "Sigma(g, node_color=g.degree, node_color_gradient='RdPu', node_color_scale=('log', 2), node_size_range=(3, 12))"
   ]
  }
 ],
 "metadata": {
  "kernelspec": {
   "display_name": "Python 3",
   "language": "python",
   "name": "python3"
  },
  "language_info": {
   "codemirror_mode": {
    "name": "ipython",
    "version": 3
   },
   "file_extension": ".py",
   "mimetype": "text/x-python",
   "name": "python",
   "nbconvert_exporter": "python",
   "pygments_lexer": "ipython3",
   "version": "3.6.10"
  }
 },
 "nbformat": 4,
 "nbformat_minor": 5
}
