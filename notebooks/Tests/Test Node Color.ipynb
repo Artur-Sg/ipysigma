{
 "cells": [
  {
   "cell_type": "code",
   "execution_count": 1,
   "id": "3088e4ad-aa26-47d1-9db8-0334fa4c244d",
   "metadata": {},
   "outputs": [],
   "source": [
    "import networkx as nx\n",
    "from ipysigma import Sigma\n",
    "from random import random"
   ]
  },
  {
   "cell_type": "code",
   "execution_count": 2,
   "id": "ea779382-7b8d-454d-8ea7-eca0782fdeea",
   "metadata": {},
   "outputs": [],
   "source": [
    "Sigma.set_defaults(height=250)"
   ]
  },
  {
   "cell_type": "code",
   "execution_count": 3,
   "id": "1e5dfda1-e813-4cb3-846c-3c18a7bd7385",
   "metadata": {},
   "outputs": [],
   "source": [
    "g = nx.karate_club_graph()"
   ]
  },
  {
   "cell_type": "code",
   "execution_count": 4,
   "id": "c56c9fd1-2ff3-408f-85db-22390b7aa6ec",
   "metadata": {},
   "outputs": [
    {
     "data": {
      "application/vnd.jupyter.widget-view+json": {
       "model_id": "fa3915e6d3e6429288f0bb8ab3d81b37",
       "version_major": 2,
       "version_minor": 0
      },
      "text/plain": [
       "Sigma(nx.Graph with 34 nodes and 78 edges)"
      ]
     },
     "metadata": {},
     "output_type": "display_data"
    }
   ],
   "source": [
    "Sigma(g)"
   ]
  },
  {
   "cell_type": "code",
   "execution_count": 5,
   "id": "5dd90401-9cd7-4207-88ab-cb4e984eb391",
   "metadata": {},
   "outputs": [],
   "source": [
    "for node, attr in g.nodes.data():\n",
    "    attr['color'] = 'green' if random() > 0.5 else 'blue'\n",
    "    attr['other_color'] = 'cyan' if random() > 0.5 else 'magenta'"
   ]
  },
  {
   "cell_type": "code",
   "execution_count": 6,
   "id": "dc60420c-ee34-459b-9ecc-717b0a7d645c",
   "metadata": {},
   "outputs": [
    {
     "data": {
      "application/vnd.jupyter.widget-view+json": {
       "model_id": "c44b58ed999b419299c07186b1a101fc",
       "version_major": 2,
       "version_minor": 0
      },
      "text/plain": [
       "Sigma(nx.Graph with 34 nodes and 78 edges)"
      ]
     },
     "metadata": {},
     "output_type": "display_data"
    }
   ],
   "source": [
    "Sigma(g)"
   ]
  },
  {
   "cell_type": "code",
   "execution_count": 7,
   "id": "258e68b8-0ba9-4736-99d6-1c5a896807c5",
   "metadata": {},
   "outputs": [
    {
     "data": {
      "application/vnd.jupyter.widget-view+json": {
       "model_id": "89c638e8eedc434c8a3c706ad672b8f7",
       "version_major": 2,
       "version_minor": 0
      },
      "text/plain": [
       "Sigma(nx.Graph with 34 nodes and 78 edges)"
      ]
     },
     "metadata": {},
     "output_type": "display_data"
    }
   ],
   "source": [
    "Sigma(g, raw_node_color='other_color')"
   ]
  },
  {
   "cell_type": "code",
   "execution_count": 8,
   "id": "110302cf-4c0b-4da7-acd4-ee6dd14e5654",
   "metadata": {},
   "outputs": [],
   "source": [
    "for node, attr in g.nodes.data():\n",
    "    del attr['color']"
   ]
  },
  {
   "cell_type": "code",
   "execution_count": 9,
   "id": "2bfb205f-83cd-49ca-a1ed-bee47673cdca",
   "metadata": {},
   "outputs": [
    {
     "data": {
      "application/vnd.jupyter.widget-view+json": {
       "model_id": "1f09cab3851841d6b76295e595ad17ed",
       "version_major": 2,
       "version_minor": 0
      },
      "text/plain": [
       "Sigma(nx.Graph with 34 nodes and 78 edges)"
      ]
     },
     "metadata": {},
     "output_type": "display_data"
    }
   ],
   "source": [
    "Sigma(g, default_node_color='orange', raw_node_color={1: 'blue'})"
   ]
  },
  {
   "cell_type": "code",
   "execution_count": 10,
   "id": "b6ca95f9-f56c-4163-957d-86664e3d9c03",
   "metadata": {},
   "outputs": [
    {
     "data": {
      "application/vnd.jupyter.widget-view+json": {
       "model_id": "db48e380a83f4e569924e61feae5f1f0",
       "version_major": 2,
       "version_minor": 0
      },
      "text/plain": [
       "Sigma(nx.Graph with 34 nodes and 78 edges)"
      ]
     },
     "metadata": {},
     "output_type": "display_data"
    }
   ],
   "source": [
    "Sigma(g, node_color='club', node_color_palette={'Officer': 'yellow'}, default_node_color='purple')"
   ]
  },
  {
   "cell_type": "code",
   "execution_count": 11,
   "id": "9906d74a-f1ac-4460-8d58-cada13c7ecb4",
   "metadata": {},
   "outputs": [
    {
     "data": {
      "application/vnd.jupyter.widget-view+json": {
       "model_id": "8c221067c6d349c692c99928ddd96a75",
       "version_major": 2,
       "version_minor": 0
      },
      "text/plain": [
       "Sigma(nx.Graph with 34 nodes and 78 edges)"
      ]
     },
     "metadata": {},
     "output_type": "display_data"
    }
   ],
   "source": [
    "Sigma(g, node_color=g.degree, node_color_gradient=['yellow', 'red'])"
   ]
  },
  {
   "cell_type": "code",
   "execution_count": 12,
   "id": "6fd5ae8b-1460-4838-b761-20d754c0a41e",
   "metadata": {},
   "outputs": [
    {
     "data": {
      "application/vnd.jupyter.widget-view+json": {
       "model_id": "a7ad7fa6f80e4db4aa9ba677f8e7100b",
       "version_major": 2,
       "version_minor": 0
      },
      "text/plain": [
       "HTML(value='<iframe style=\"height: 500px; width: 100%; border: none;\" srcdoc=\"&lt;!DOCTYPE html&gt;\\n&lt;html …"
      ]
     },
     "metadata": {},
     "output_type": "display_data"
    }
   ],
   "source": [
    "w = Sigma(g, node_color=g.degree, node_color_gradient=['yellow', 'red'])\n",
    "w.embed()"
   ]
  }
 ],
 "metadata": {
  "kernelspec": {
   "display_name": "Python 3",
   "language": "python",
   "name": "python3"
  },
  "language_info": {
   "codemirror_mode": {
    "name": "ipython",
    "version": 3
   },
   "file_extension": ".py",
   "mimetype": "text/x-python",
   "name": "python",
   "nbconvert_exporter": "python",
   "pygments_lexer": "ipython3",
   "version": "3.6.12"
  }
 },
 "nbformat": 4,
 "nbformat_minor": 5
}
