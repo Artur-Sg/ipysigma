{
 "cells": [
  {
   "cell_type": "code",
   "execution_count": 1,
   "id": "a63ed3a0-3ea8-4abb-91c8-d82ebf875609",
   "metadata": {},
   "outputs": [],
   "source": [
    "import networkx as nx\n",
    "from ipysigma import Sigma"
   ]
  },
  {
   "cell_type": "code",
   "execution_count": 2,
   "id": "6c7cdae8-296d-45d4-bfc9-1d6e4945902d",
   "metadata": {},
   "outputs": [],
   "source": [
    "g = nx.read_gexf('../data/arctic.gexf')"
   ]
  },
  {
   "cell_type": "code",
   "execution_count": 3,
   "id": "6efb599f-7913-463c-81aa-6d0083a7dcec",
   "metadata": {},
   "outputs": [],
   "source": [
    "b = nx.betweenness_centrality(g)\n",
    "nx.set_node_attributes(g, b, name='betweenness')"
   ]
  },
  {
   "cell_type": "code",
   "execution_count": 4,
   "id": "0db1d107-c5b6-4a54-b5c0-a5c263a7ae9f",
   "metadata": {},
   "outputs": [
    {
     "data": {
      "application/vnd.jupyter.widget-view+json": {
       "model_id": "fd94d1b637414c0fa5d8db333e917adb",
       "version_major": 2,
       "version_minor": 0
      },
      "text/plain": [
       "Sigma(nx.DiGraph with 1,715 nodes and 6,676 edges)"
      ]
     },
     "metadata": {},
     "output_type": "display_data"
    }
   ],
   "source": [
    "Sigma(g, raw_node_color=None, node_halos=True, default_node_halo_size=10)"
   ]
  },
  {
   "cell_type": "code",
   "execution_count": 5,
   "id": "c23f2a54-a56f-4f5f-860d-4b8c6fdbf7b3",
   "metadata": {},
   "outputs": [
    {
     "data": {
      "application/vnd.jupyter.widget-view+json": {
       "model_id": "b2f55dbf41e440b699361eb2ffd9d574",
       "version_major": 2,
       "version_minor": 0
      },
      "text/plain": [
       "Sigma(nx.DiGraph with 1,715 nodes and 6,676 edges)"
      ]
     },
     "metadata": {},
     "output_type": "display_data"
    }
   ],
   "source": [
    "Sigma(g, raw_node_color=None, node_halos=True, node_halo_size='betweenness')"
   ]
  },
  {
   "cell_type": "code",
   "execution_count": 6,
   "id": "3a76963e-d73b-4644-8d37-2c9db928aa53",
   "metadata": {},
   "outputs": [
    {
     "data": {
      "application/vnd.jupyter.widget-view+json": {
       "model_id": "a8bd634aa63f499b9a35a08f988ca678",
       "version_major": 2,
       "version_minor": 0
      },
      "text/plain": [
       "Sigma(nx.DiGraph with 1,715 nodes and 6,676 edges)"
      ]
     },
     "metadata": {},
     "output_type": "display_data"
    }
   ],
   "source": [
    "Sigma(g, raw_node_color=None, node_halos=True, node_halo_size='betweenness', node_borders=True, default_node_border_color='black')"
   ]
  },
  {
   "cell_type": "code",
   "execution_count": 7,
   "id": "699e0c8f-45ee-457f-93f8-7c8dca0ca693",
   "metadata": {},
   "outputs": [
    {
     "data": {
      "application/vnd.jupyter.widget-view+json": {
       "model_id": "056b9688fdc34348a583b0d825f8f291",
       "version_major": 2,
       "version_minor": 0
      },
      "text/plain": [
       "Sigma(nx.DiGraph with 1,715 nodes and 6,676 edges)"
      ]
     },
     "metadata": {},
     "output_type": "display_data"
    }
   ],
   "source": [
    "Sigma(g, raw_node_color=None, node_halos=True, node_halo_size='betweenness', default_node_pictogram='settings')"
   ]
  },
  {
   "cell_type": "code",
   "execution_count": 8,
   "id": "24f4fa18-ba3d-495f-a8ae-7bdfaf5db52c",
   "metadata": {},
   "outputs": [
    {
     "data": {
      "application/vnd.jupyter.widget-view+json": {
       "model_id": "54263ba765f342b6a346bdf749a72f19",
       "version_major": 2,
       "version_minor": 0
      },
      "text/plain": [
       "Sigma(nx.DiGraph with 1,715 nodes and 6,676 edges)"
      ]
     },
     "metadata": {},
     "output_type": "display_data"
    }
   ],
   "source": [
    "Sigma(g, raw_node_color=None, node_halos=True, node_halo_size='betweenness', default_node_pictogram='settings', node_borders=True)"
   ]
  },
  {
   "cell_type": "code",
   "execution_count": 15,
   "id": "c57d71f2-758e-41c0-930f-a5a651cb2011",
   "metadata": {},
   "outputs": [
    {
     "data": {
      "application/vnd.jupyter.widget-view+json": {
       "model_id": "31d3b6e142594293bb9190c8d2c90dd9",
       "version_major": 2,
       "version_minor": 0
      },
      "text/plain": [
       "Sigma(nx.DiGraph with 1,715 nodes and 6,676 edges)"
      ]
     },
     "metadata": {},
     "output_type": "display_data"
    }
   ],
   "source": [
    "Sigma(g, raw_node_color=None, node_halos=True, node_halo_size='betweenness', node_halo_color_gradient=('yellow', 'red'), node_halo_color='betweenness')"
   ]
  }
 ],
 "metadata": {
  "kernelspec": {
   "display_name": "Python 3",
   "language": "python",
   "name": "python3"
  },
  "language_info": {
   "codemirror_mode": {
    "name": "ipython",
    "version": 3
   },
   "file_extension": ".py",
   "mimetype": "text/x-python",
   "name": "python",
   "nbconvert_exporter": "python",
   "pygments_lexer": "ipython3",
   "version": "3.6.12"
  }
 },
 "nbformat": 4,
 "nbformat_minor": 5
}
