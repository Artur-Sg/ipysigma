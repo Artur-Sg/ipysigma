{
 "cells": [
  {
   "cell_type": "code",
   "execution_count": 1,
   "id": "a70c9df4-ac30-4ef6-8597-afe559bc4b15",
   "metadata": {},
   "outputs": [],
   "source": [
    "import networkx as nx\n",
    "from ipysigma import Sigma\n",
    "from random import random\n",
    "from itertools import cycle"
   ]
  },
  {
   "cell_type": "code",
   "execution_count": 2,
   "id": "197aca99-22dc-4004-8868-b3e6371853db",
   "metadata": {},
   "outputs": [],
   "source": [
    "g = nx.karate_club_graph()"
   ]
  },
  {
   "cell_type": "code",
   "execution_count": 3,
   "id": "1e4fee58-c24a-42a6-bea6-3b2b961b7daf",
   "metadata": {},
   "outputs": [],
   "source": [
    "SHAPES = ['circle', 'triangle', 'square', 'pentagon', 'hexagon', 'star', 'heart', 'cloud']\n",
    "shape_chooser = cycle(SHAPES)"
   ]
  },
  {
   "cell_type": "code",
   "execution_count": 4,
   "id": "3e7b77ff-a782-4d1c-8acd-8b635c484043",
   "metadata": {},
   "outputs": [
    {
     "data": {
      "application/vnd.jupyter.widget-view+json": {
       "model_id": "c49286f63bcb4de6b0856d1822eb9348",
       "version_major": 2,
       "version_minor": 0
      },
      "text/plain": [
       "Sigma(nx.Graph with 34 nodes and 78 edges)"
      ]
     },
     "metadata": {},
     "output_type": "display_data"
    }
   ],
   "source": [
    "Sigma(\n",
    "    g,\n",
    "    default_node_size=10,\n",
    "    raw_node_shape=lambda u: next(shape_chooser),\n",
    "    node_color='louvain',\n",
    "    node_metrics=['louvain']\n",
    ")"
   ]
  }
 ],
 "metadata": {
  "kernelspec": {
   "display_name": "Python 3",
   "language": "python",
   "name": "python3"
  },
  "language_info": {
   "codemirror_mode": {
    "name": "ipython",
    "version": 3
   },
   "file_extension": ".py",
   "mimetype": "text/x-python",
   "name": "python",
   "nbconvert_exporter": "python",
   "pygments_lexer": "ipython3",
   "version": "3.6.10"
  }
 },
 "nbformat": 4,
 "nbformat_minor": 5
}
