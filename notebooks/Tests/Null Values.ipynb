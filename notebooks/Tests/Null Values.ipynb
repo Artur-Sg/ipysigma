{
 "cells": [
  {
   "cell_type": "code",
   "execution_count": 2,
   "id": "4885a8f2-e6fb-4cae-8e0b-abd30e7e4a76",
   "metadata": {},
   "outputs": [],
   "source": [
    "import networkx as nx\n",
    "from ipysigma import Sigma\n",
    "import pandas as pd\n",
    "import numpy as np"
   ]
  },
  {
   "cell_type": "code",
   "execution_count": 3,
   "id": "693460f2-c097-40c6-819f-323c15e8f351",
   "metadata": {},
   "outputs": [],
   "source": [
    "g = nx.karate_club_graph()"
   ]
  },
  {
   "cell_type": "code",
   "execution_count": 9,
   "id": "a9792402-ec0c-44e7-96fc-cfefda0e6e47",
   "metadata": {},
   "outputs": [],
   "source": [
    "random_sizes_with_nans = np.random.random(len(g))\n",
    "random_sizes_with_nans[0:5] = np.nan"
   ]
  },
  {
   "cell_type": "code",
   "execution_count": 10,
   "id": "8d51ee62-15f9-44f1-9a55-f2392a169178",
   "metadata": {},
   "outputs": [
    {
     "data": {
      "text/plain": [
       "array([       nan,        nan,        nan,        nan,        nan,\n",
       "       0.32583655, 0.76579236, 0.47377663, 0.14652731, 0.50337199,\n",
       "       0.91152607, 0.87690209, 0.34284085, 0.29521651, 0.93622502,\n",
       "       0.29038869, 0.23452037, 0.05219076, 0.91889686, 0.67776789,\n",
       "       0.43003841, 0.386289  , 0.05493274, 0.77434101, 0.69957   ,\n",
       "       0.85338091, 0.67306599, 0.430422  , 0.68584802, 0.50526262,\n",
       "       0.90435642, 0.65786986, 0.42246229, 0.39305773])"
      ]
     },
     "execution_count": 10,
     "metadata": {},
     "output_type": "execute_result"
    }
   ],
   "source": [
    "random_sizes_with_nans"
   ]
  },
  {
   "cell_type": "code",
   "execution_count": 11,
   "id": "b583ef10-aa83-447b-8446-62612c02e729",
   "metadata": {},
   "outputs": [
    {
     "data": {
      "application/vnd.jupyter.widget-view+json": {
       "model_id": "be9ad17fc3554d248919be3f0e988248",
       "version_major": 2,
       "version_minor": 0
      },
      "text/plain": [
       "Sigma(nx.Graph with 34 nodes and 78 edges)"
      ]
     },
     "metadata": {},
     "output_type": "display_data"
    }
   ],
   "source": [
    "Sigma(g, node_size=random_sizes_with_nans)"
   ]
  }
 ],
 "metadata": {
  "kernelspec": {
   "display_name": "Python 3",
   "language": "python",
   "name": "python3"
  },
  "language_info": {
   "codemirror_mode": {
    "name": "ipython",
    "version": 3
   },
   "file_extension": ".py",
   "mimetype": "text/x-python",
   "name": "python",
   "nbconvert_exporter": "python",
   "pygments_lexer": "ipython3",
   "version": "3.6.12"
  }
 },
 "nbformat": 4,
 "nbformat_minor": 5
}
