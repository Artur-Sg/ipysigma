{
 "cells": [
  {
   "cell_type": "code",
   "execution_count": 1,
   "id": "a8416794-7f5f-43ff-b545-ae2f8e5a5267",
   "metadata": {},
   "outputs": [],
   "source": [
    "import networkx as nx\n",
    "from ipysigma import Sigma"
   ]
  },
  {
   "cell_type": "code",
   "execution_count": 2,
   "id": "59e94fa3-9dea-4860-ade0-c6004dce2cd5",
   "metadata": {},
   "outputs": [],
   "source": [
    "Sigma.set_defaults(height=250)"
   ]
  },
  {
   "cell_type": "code",
   "execution_count": 3,
   "id": "1d7d824e-8e07-48b7-8450-1470412ce152",
   "metadata": {},
   "outputs": [],
   "source": [
    "g = nx.karate_club_graph()"
   ]
  },
  {
   "cell_type": "code",
   "execution_count": 4,
   "id": "25c58d1f-d191-4316-81f5-7fed064caf8c",
   "metadata": {},
   "outputs": [
    {
     "data": {
      "application/vnd.jupyter.widget-view+json": {
       "model_id": "6649ffe0a91e4f5a8084bdb30ad949ff",
       "version_major": 2,
       "version_minor": 0
      },
      "text/plain": [
       "Sigma(nx.Graph with 34 nodes and 78 edges)"
      ]
     },
     "metadata": {},
     "output_type": "display_data"
    }
   ],
   "source": [
    "Sigma(g, node_borders='ratio', default_node_color='cyan', default_node_border_color='red', default_node_border_ratio=0.3)"
   ]
  },
  {
   "cell_type": "code",
   "execution_count": 5,
   "id": "7f0b8d7d-a63c-4cfd-b0fb-906146adc75a",
   "metadata": {},
   "outputs": [
    {
     "data": {
      "application/vnd.jupyter.widget-view+json": {
       "model_id": "4372df53bebe4944b0fca2b9a13ec5ab",
       "version_major": 2,
       "version_minor": 0
      },
      "text/plain": [
       "Sigma(nx.Graph with 34 nodes and 78 edges)"
      ]
     },
     "metadata": {},
     "output_type": "display_data"
    }
   ],
   "source": [
    "Sigma(g, node_borders='ratio', node_border_color=lambda n: n > 10, default_node_border_ratio=0.3, default_node_color='white')"
   ]
  },
  {
   "cell_type": "code",
   "execution_count": 6,
   "id": "261eec62-a908-4101-a132-73be7e569a82",
   "metadata": {},
   "outputs": [
    {
     "data": {
      "application/vnd.jupyter.widget-view+json": {
       "model_id": "38d17cca378a43f3b431e505e4859ed0",
       "version_major": 2,
       "version_minor": 0
      },
      "text/plain": [
       "Sigma(nx.Graph with 34 nodes and 78 edges)"
      ]
     },
     "metadata": {},
     "output_type": "display_data"
    }
   ],
   "source": [
    "Sigma(g, node_borders='ratio', default_node_border_color='red', node_border_ratio=range(len(g)), default_node_size=10)"
   ]
  },
  {
   "cell_type": "code",
   "execution_count": 7,
   "id": "27d5e44c-1440-4db6-a829-2b1a59023b10",
   "metadata": {},
   "outputs": [
    {
     "data": {
      "application/vnd.jupyter.widget-view+json": {
       "model_id": "4ce3cd8bba8f4b4a96ae1723b2376cd9",
       "version_major": 2,
       "version_minor": 0
      },
      "text/plain": [
       "Sigma(nx.Graph with 34 nodes and 78 edges)"
      ]
     },
     "metadata": {},
     "output_type": "display_data"
    }
   ],
   "source": [
    "Sigma(g, node_borders='ratio', node_size=g.degree, default_node_border_color='black', default_node_border_ratio=0.1)"
   ]
  },
  {
   "cell_type": "code",
   "execution_count": 8,
   "id": "e39bbc9e-64b4-4e27-a073-a7e96a538cc2",
   "metadata": {},
   "outputs": [
    {
     "data": {
      "application/vnd.jupyter.widget-view+json": {
       "model_id": "abe11eb33ace45a49c9a5135f7df3a80",
       "version_major": 2,
       "version_minor": 0
      },
      "text/plain": [
       "Sigma(nx.Graph with 34 nodes and 78 edges)"
      ]
     },
     "metadata": {},
     "output_type": "display_data"
    }
   ],
   "source": [
    "Sigma(g, node_borders=True, node_size=g.degree, default_node_border_color='black')"
   ]
  },
  {
   "cell_type": "code",
   "execution_count": 9,
   "id": "5a774473-a468-411a-9ba9-aac7c5c145ce",
   "metadata": {},
   "outputs": [
    {
     "data": {
      "application/vnd.jupyter.widget-view+json": {
       "model_id": "c8de0adaf7b94976a875c39905b73f98",
       "version_major": 2,
       "version_minor": 0
      },
      "text/plain": [
       "Sigma(nx.Graph with 34 nodes and 78 edges)"
      ]
     },
     "metadata": {},
     "output_type": "display_data"
    }
   ],
   "source": [
    "Sigma(\n",
    "    g,\n",
    "    node_borders=True,\n",
    "    node_size=g.degree,\n",
    "    default_node_border_color=\"black\",\n",
    "    default_node_pictogram=\"thunderstorm\",\n",
    "    default_node_border_size=10\n",
    ")"
   ]
  },
  {
   "cell_type": "code",
   "execution_count": 12,
   "id": "5abe2a78-bfab-4c03-9269-3dcea96788b3",
   "metadata": {},
   "outputs": [
    {
     "data": {
      "application/vnd.jupyter.widget-view+json": {
       "model_id": "0d3274d8303349d9b55c1fd5a5d1cd66",
       "version_major": 2,
       "version_minor": 0
      },
      "text/plain": [
       "Sigma(nx.Graph with 34 nodes and 78 edges)"
      ]
     },
     "metadata": {},
     "output_type": "display_data"
    }
   ],
   "source": [
    "Sigma(\n",
    "    g,\n",
    "    node_size=g.degree,\n",
    "    node_metrics=['louvain'],\n",
    "    node_color='louvain',\n",
    "    node_borders=True,\n",
    "    node_border_color_from='node'\n",
    ")"
   ]
  }
 ],
 "metadata": {
  "kernelspec": {
   "display_name": "Python 3",
   "language": "python",
   "name": "python3"
  },
  "language_info": {
   "codemirror_mode": {
    "name": "ipython",
    "version": 3
   },
   "file_extension": ".py",
   "mimetype": "text/x-python",
   "name": "python",
   "nbconvert_exporter": "python",
   "pygments_lexer": "ipython3",
   "version": "3.6.10"
  }
 },
 "nbformat": 4,
 "nbformat_minor": 5
}
