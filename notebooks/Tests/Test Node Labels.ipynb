{
 "cells": [
  {
   "cell_type": "code",
   "execution_count": 1,
   "id": "649c7c99-d58f-4685-9ead-ad5c10bd8339",
   "metadata": {},
   "outputs": [],
   "source": [
    "import networkx as nx\n",
    "from ipysigma import Sigma"
   ]
  },
  {
   "cell_type": "code",
   "execution_count": 2,
   "id": "6b070f46-f420-44ca-9605-b44cc0f65884",
   "metadata": {},
   "outputs": [],
   "source": [
    "Sigma.set_defaults(height=250)"
   ]
  },
  {
   "cell_type": "code",
   "execution_count": 3,
   "id": "f709c675-15f2-4e93-a4bd-e4a4d776c2ee",
   "metadata": {},
   "outputs": [],
   "source": [
    "g = nx.karate_club_graph()"
   ]
  },
  {
   "cell_type": "code",
   "execution_count": 4,
   "id": "0efc6c8d-51df-4a99-be88-9f1b029274b8",
   "metadata": {},
   "outputs": [],
   "source": [
    "for node, attr in g.nodes.data():\n",
    "    attr['label'] = 'Label %s' % node"
   ]
  },
  {
   "cell_type": "code",
   "execution_count": 5,
   "id": "85c00d45-f97e-4117-b929-849cd05a6d25",
   "metadata": {},
   "outputs": [
    {
     "data": {
      "application/vnd.jupyter.widget-view+json": {
       "model_id": "af7be7474dfb46f08e204dd145eaf153",
       "version_major": 2,
       "version_minor": 0
      },
      "text/plain": [
       "Sigma(nx.Graph with 34 nodes and 78 edges)"
      ]
     },
     "metadata": {},
     "output_type": "display_data"
    }
   ],
   "source": [
    "Sigma(g)"
   ]
  },
  {
   "cell_type": "code",
   "execution_count": 6,
   "id": "25843b84-4417-43c7-878c-9feb0511ad91",
   "metadata": {},
   "outputs": [
    {
     "data": {
      "application/vnd.jupyter.widget-view+json": {
       "model_id": "48aa1212dee64218842430b6b762e02c",
       "version_major": 2,
       "version_minor": 0
      },
      "text/plain": [
       "Sigma(nx.Graph with 34 nodes and 78 edges)"
      ]
     },
     "metadata": {},
     "output_type": "display_data"
    }
   ],
   "source": [
    "Sigma(g, label_font='cursive', node_size=g.degree, node_label_size=g.degree)"
   ]
  },
  {
   "cell_type": "code",
   "execution_count": 7,
   "id": "74d73540-bcc6-44b0-ba7b-c20439a76255",
   "metadata": {},
   "outputs": [
    {
     "data": {
      "application/vnd.jupyter.widget-view+json": {
       "model_id": "9f7cde9a2c614278a435711fa5d59fd0",
       "version_major": 2,
       "version_minor": 0
      },
      "text/plain": [
       "Sigma(nx.Graph with 34 nodes and 78 edges)"
      ]
     },
     "metadata": {},
     "output_type": "display_data"
    }
   ],
   "source": [
    "Sigma(g, raw_node_label={0: 'Interesting Label'}, selected_node=0)"
   ]
  },
  {
   "cell_type": "code",
   "execution_count": 8,
   "id": "0a81ec77-569b-4f1d-b712-f4aa5ae221ed",
   "metadata": {},
   "outputs": [
    {
     "data": {
      "application/vnd.jupyter.widget-view+json": {
       "model_id": "f88f1c1866f244dbb3ddcd60921e3fbd",
       "version_major": 2,
       "version_minor": 0
      },
      "text/plain": [
       "Sigma(nx.Graph with 34 nodes and 78 edges)"
      ]
     },
     "metadata": {},
     "output_type": "display_data"
    }
   ],
   "source": [
    "Sigma(g, node_label={1: 'Interesting Label'}, selected_node=1)"
   ]
  }
 ],
 "metadata": {
  "kernelspec": {
   "display_name": "Python 3",
   "language": "python",
   "name": "python3"
  },
  "language_info": {
   "codemirror_mode": {
    "name": "ipython",
    "version": 3
   },
   "file_extension": ".py",
   "mimetype": "text/x-python",
   "name": "python",
   "nbconvert_exporter": "python",
   "pygments_lexer": "ipython3",
   "version": "3.6.12"
  }
 },
 "nbformat": 4,
 "nbformat_minor": 5
}
