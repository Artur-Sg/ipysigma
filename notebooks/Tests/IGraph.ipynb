{
 "cells": [
  {
   "cell_type": "code",
   "execution_count": 1,
   "id": "c276612b-e2cd-495c-9086-44a6914af9ef",
   "metadata": {},
   "outputs": [],
   "source": [
    "import igraph as ig\n",
    "from ipysigma import Sigma, SigmaGrid"
   ]
  },
  {
   "cell_type": "code",
   "execution_count": 2,
   "id": "b15598f4-1bbb-4b95-8c2e-df4ce908b0fc",
   "metadata": {},
   "outputs": [],
   "source": [
    "graph = ig.Graph.Famous('Zachary')"
   ]
  },
  {
   "cell_type": "code",
   "execution_count": 3,
   "id": "51cb011f-2fb5-4004-ad74-71427e61cfba",
   "metadata": {},
   "outputs": [
    {
     "data": {
      "application/vnd.jupyter.widget-view+json": {
       "model_id": "086252d8285d41e98107e7e23a4753de",
       "version_major": 2,
       "version_minor": 0
      },
      "text/plain": [
       "Sigma(ig.Graph with 34 nodes and 78 edges)"
      ]
     },
     "execution_count": 3,
     "metadata": {},
     "output_type": "execute_result"
    }
   ],
   "source": [
    "Sigma(graph, node_size=graph.degree, node_color=graph.betweenness(), node_color_gradient='Viridis')"
   ]
  },
  {
   "cell_type": "code",
   "execution_count": 4,
   "id": "294a6068-fe32-4927-b964-c858e47d4da0",
   "metadata": {},
   "outputs": [
    {
     "data": {
      "application/vnd.jupyter.widget-view+json": {
       "model_id": "c167422063314b4697995308e16e16e0",
       "version_major": 2,
       "version_minor": 0
      },
      "text/plain": [
       "VBox(children=(HBox(children=(Sigma(ig.Graph with 34 nodes and 78 edges), Sigma(ig.Graph with 34 nodes and 78 …"
      ]
     },
     "metadata": {},
     "output_type": "display_data"
    }
   ],
   "source": [
    "SigmaGrid(\n",
    "    graph,\n",
    "    views=[\n",
    "        {'node_color': graph.community_multilevel()},\n",
    "        {'node_color': graph.community_optimal_modularity()},\n",
    "    ],\n",
    "    default_node_size=10,\n",
    "    hide_search=True\n",
    ")"
   ]
  }
 ],
 "metadata": {
  "kernelspec": {
   "display_name": "Python 3 (ipykernel)",
   "language": "python",
   "name": "python3"
  },
  "language_info": {
   "codemirror_mode": {
    "name": "ipython",
    "version": 3
   },
   "file_extension": ".py",
   "mimetype": "text/x-python",
   "name": "python",
   "nbconvert_exporter": "python",
   "pygments_lexer": "ipython3",
   "version": "3.8.2"
  }
 },
 "nbformat": 4,
 "nbformat_minor": 5
}
