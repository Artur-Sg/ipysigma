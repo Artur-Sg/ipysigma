{
 "cells": [
  {
   "cell_type": "code",
   "execution_count": 1,
   "id": "414ad4c9",
   "metadata": {},
   "outputs": [],
   "source": [
    "import networkx as nx\n",
    "from ipysigma import Sigma\n",
    "g = nx.karate_club_graph()"
   ]
  },
  {
   "cell_type": "code",
   "execution_count": 13,
   "id": "1ae22a6d-771e-412e-9a14-10d953f25bde",
   "metadata": {},
   "outputs": [
    {
     "data": {
      "application/vnd.jupyter.widget-view+json": {
       "model_id": "d8a08b8a8b7641b099a2198ae7e4c2b0",
       "version_major": 2,
       "version_minor": 0
      },
      "text/plain": [
       "Sigma(nx.Graph with 34 nodes and 78 edges)"
      ]
     },
     "metadata": {},
     "output_type": "display_data"
    }
   ],
   "source": [
    "from random import random\n",
    "for _, a in g.nodes(data=True):\n",
    "    a['size'] = 20 * random()\n",
    "    a['random'] = random()\n",
    "for _, _, a in g.edges(data=True):\n",
    "    a['random'] = random()\n",
    "    a['partition'] = random() > 0.5\n",
    "sigma = Sigma(g, node_size='random', node_size_range=[5, 10], node_color='club', edge_color='partition', edge_size='random')\n",
    "sigma"
   ]
  },
  {
   "cell_type": "code",
   "execution_count": 4,
   "id": "ff0f2886-0fc6-4a66-a1bf-5d6e52f4378f",
   "metadata": {},
   "outputs": [
    {
     "data": {
      "application/vnd.jupyter.widget-view+json": {
       "model_id": "cdd598a6b14e4031a57cacfbc37f61c5",
       "version_major": 2,
       "version_minor": 0
      },
      "text/plain": [
       "Sigma(nx.DiGraph with 366 nodes and 1,107 edges)"
      ]
     },
     "metadata": {},
     "output_type": "display_data"
    }
   ],
   "source": [
    "Sigma.from_gexf('./data/rio.gexf', node_color='Nature of institution', node_label='Label2')"
   ]
  }
 ],
 "metadata": {
  "kernelspec": {
   "display_name": "Python 3",
   "language": "python",
   "name": "python3"
  },
  "language_info": {
   "codemirror_mode": {
    "name": "ipython",
    "version": 3
   },
   "file_extension": ".py",
   "mimetype": "text/x-python",
   "name": "python",
   "nbconvert_exporter": "python",
   "pygments_lexer": "ipython3",
   "version": "3.6.10"
  }
 },
 "nbformat": 4,
 "nbformat_minor": 5
}
