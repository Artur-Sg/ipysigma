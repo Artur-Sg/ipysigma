{
 "cells": [
  {
   "cell_type": "code",
   "execution_count": 1,
   "id": "7c5454e3-8305-4cf8-aa5a-71122eaf456d",
   "metadata": {},
   "outputs": [],
   "source": [
    "import networkx as nx\n",
    "from ipysigma import Sigma"
   ]
  },
  {
   "cell_type": "code",
   "execution_count": 2,
   "id": "b47f2d0f-aa43-4796-b876-8449288b3a98",
   "metadata": {},
   "outputs": [],
   "source": [
    "g = nx.read_gexf('./data/rio.gexf')"
   ]
  },
  {
   "cell_type": "code",
   "execution_count": 13,
   "id": "b387ef20-44cb-4a22-a62a-7b3afd5643d5",
   "metadata": {},
   "outputs": [
    {
     "data": {
      "application/vnd.jupyter.widget-view+json": {
       "model_id": "e2f4648a93e1470fbdf413ddd375e03d",
       "version_major": 2,
       "version_minor": 0
      },
      "text/plain": [
       "Sigma(nx.DiGraph with 366 nodes and 1,107 edges)"
      ]
     },
     "metadata": {},
     "output_type": "display_data"
    }
   ],
   "source": [
    "Sigma(\n",
    "    g,\n",
    "    hide_info_panel=True,\n",
    "    node_label='Label2',\n",
    "    label_rendered_size_threshold=100,\n",
    "    node_size_range=(2, 11),\n",
    ")"
   ]
  }
 ],
 "metadata": {
  "kernelspec": {
   "display_name": "Python 3",
   "language": "python",
   "name": "python3"
  },
  "language_info": {
   "codemirror_mode": {
    "name": "ipython",
    "version": 3
   },
   "file_extension": ".py",
   "mimetype": "text/x-python",
   "name": "python",
   "nbconvert_exporter": "python",
   "pygments_lexer": "ipython3",
   "version": "3.6.10"
  }
 },
 "nbformat": 4,
 "nbformat_minor": 5
}
