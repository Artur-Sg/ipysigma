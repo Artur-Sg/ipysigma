{
 "cells": [
  {
   "cell_type": "code",
   "execution_count": 1,
   "id": "7c5454e3-8305-4cf8-aa5a-71122eaf456d",
   "metadata": {},
   "outputs": [],
   "source": [
    "import networkx as nx\n",
    "from ipysigma import Sigma\n",
    "from random import random"
   ]
  },
  {
   "cell_type": "code",
   "execution_count": 2,
   "id": "b47f2d0f-aa43-4796-b876-8449288b3a98",
   "metadata": {},
   "outputs": [],
   "source": [
    "g = nx.read_gexf('./data/rio.gexf')"
   ]
  },
  {
   "cell_type": "code",
   "execution_count": 3,
   "id": "b387ef20-44cb-4a22-a62a-7b3afd5643d5",
   "metadata": {},
   "outputs": [
    {
     "data": {
      "application/vnd.jupyter.widget-view+json": {
       "model_id": "3fd3ef445dfe45b6ad76411154a7a9de",
       "version_major": 2,
       "version_minor": 0
      },
      "text/plain": [
       "Sigma(nx.DiGraph with 366 nodes and 1,107 edges)"
      ]
     },
     "metadata": {},
     "output_type": "display_data"
    }
   ],
   "source": [
    "# node_color\n",
    "Sigma(\n",
    "    g,\n",
    "    hide_info_panel=True,\n",
    "    node_label='Label2',\n",
    "    label_rendered_size_threshold=100,\n",
    "    node_size_range=(2, 11)\n",
    ")"
   ]
  },
  {
   "cell_type": "code",
   "execution_count": 4,
   "id": "4ea20bb1-fea4-4fcf-8a57-6cbfcffa16dc",
   "metadata": {},
   "outputs": [
    {
     "data": {
      "application/vnd.jupyter.widget-view+json": {
       "model_id": "71b66aec7831419c95211428d2f6bf8d",
       "version_major": 2,
       "version_minor": 0
      },
      "text/plain": [
       "Sigma(nx.DiGraph with 366 nodes and 1,107 edges)"
      ]
     },
     "metadata": {},
     "output_type": "display_data"
    }
   ],
   "source": [
    "# node_color_saturation\n",
    "Sigma(\n",
    "    g,\n",
    "    hide_info_panel=True,\n",
    "    node_label='Label2',\n",
    "    label_rendered_size_threshold=100,\n",
    "    node_size_range=(2, 11),\n",
    "    node_color_saturation=g.degree,\n",
    "    node_color_saturation_scale='log+1'\n",
    ")"
   ]
  },
  {
   "cell_type": "code",
   "execution_count": 5,
   "id": "aab0b8e9-7dde-4f87-a791-275c69d993e0",
   "metadata": {},
   "outputs": [
    {
     "data": {
      "application/vnd.jupyter.widget-view+json": {
       "model_id": "bc3bfe63ce6542e8b4d786cc29bb0573",
       "version_major": 2,
       "version_minor": 0
      },
      "text/plain": [
       "Sigma(nx.DiGraph with 366 nodes and 1,107 edges)"
      ]
     },
     "metadata": {},
     "output_type": "display_data"
    }
   ],
   "source": [
    "# node_size\n",
    "Sigma(\n",
    "    g,\n",
    "    hide_info_panel=True,\n",
    "    node_label='Label2',\n",
    "    label_rendered_size_threshold=100,\n",
    "    node_size_range=(2, 11),\n",
    "    node_size=g.degree,\n",
    "    raw_node_color=None\n",
    ")"
   ]
  },
  {
   "cell_type": "code",
   "execution_count": 6,
   "id": "b523df88-eb86-4223-be88-26ad4045d89c",
   "metadata": {},
   "outputs": [
    {
     "data": {
      "application/vnd.jupyter.widget-view+json": {
       "model_id": "ff5638bbcbc44e6f94ecb2d8b69d0393",
       "version_major": 2,
       "version_minor": 0
      },
      "text/plain": [
       "Sigma(nx.DiGraph with 366 nodes and 1,107 edges)"
      ]
     },
     "metadata": {},
     "output_type": "display_data"
    }
   ],
   "source": [
    "# node_label\n",
    "Sigma(\n",
    "    g,\n",
    "    hide_info_panel=True,\n",
    "    node_label=g,\n",
    "    label_rendered_size_threshold=1,\n",
    "    label_grid_cell_size=70,\n",
    "    node_size_range=(2, 11),\n",
    ")"
   ]
  },
  {
   "cell_type": "code",
   "execution_count": 7,
   "id": "4e6fb253-0cb6-41f9-9537-c2e2f79d40f9",
   "metadata": {},
   "outputs": [
    {
     "data": {
      "application/vnd.jupyter.widget-view+json": {
       "model_id": "8df5ee535f8240c3b64f58e9aab6359c",
       "version_major": 2,
       "version_minor": 0
      },
      "text/plain": [
       "Sigma(nx.DiGraph with 366 nodes and 1,107 edges)"
      ]
     },
     "metadata": {},
     "output_type": "display_data"
    }
   ],
   "source": [
    "# node_label_size\n",
    "Sigma(\n",
    "    g,\n",
    "    hide_info_panel=True,\n",
    "    node_label='Label2',\n",
    "    label_rendered_size_threshold=1,\n",
    "    label_grid_cell_size=100,\n",
    "    node_size_range=(2, 11),\n",
    "    node_label_size=g.degree\n",
    ")"
   ]
  },
  {
   "cell_type": "code",
   "execution_count": 8,
   "id": "d5be0231-73f3-460c-8360-1c4dca782fa2",
   "metadata": {},
   "outputs": [
    {
     "data": {
      "application/vnd.jupyter.widget-view+json": {
       "model_id": "4e5fb78d1e5548deb7e62fb307881952",
       "version_major": 2,
       "version_minor": 0
      },
      "text/plain": [
       "Sigma(nx.DiGraph with 366 nodes and 1,107 edges)"
      ]
     },
     "metadata": {},
     "output_type": "display_data"
    }
   ],
   "source": [
    "# node_label_color\n",
    "Sigma(\n",
    "    g,\n",
    "    hide_info_panel=True,\n",
    "    node_label='Label2',\n",
    "    label_rendered_size_threshold=1,\n",
    "    label_grid_cell_size=100,\n",
    "    node_size_range=(2, 11),\n",
    "    raw_node_color=None,\n",
    "    node_metrics=['louvain'],\n",
    "    node_label_color='louvain',\n",
    "    node_label_color_palette='Tableau10'\n",
    ")"
   ]
  },
  {
   "cell_type": "code",
   "execution_count": 9,
   "id": "ca20a766-fb0a-4280-b0b9-e3ec0aa6dcf0",
   "metadata": {},
   "outputs": [
    {
     "data": {
      "application/vnd.jupyter.widget-view+json": {
       "model_id": "36e80c3c1dbd42d5b4acc77c02ea98e5",
       "version_major": 2,
       "version_minor": 0
      },
      "text/plain": [
       "Sigma(nx.DiGraph with 366 nodes and 1,107 edges)"
      ]
     },
     "metadata": {},
     "output_type": "display_data"
    }
   ],
   "source": [
    "# node_border_size\n",
    "Sigma(\n",
    "    g,\n",
    "    hide_info_panel=True,\n",
    "    node_label='Label2',\n",
    "    label_rendered_size_threshold=100,\n",
    "    node_size_range=(2, 11),\n",
    "    node_border_size=g.degree,\n",
    "    default_node_border_color='black'\n",
    ")"
   ]
  },
  {
   "cell_type": "code",
   "execution_count": 10,
   "id": "f4be2441-def4-42e9-afb7-85e20580dbf3",
   "metadata": {},
   "outputs": [
    {
     "data": {
      "application/vnd.jupyter.widget-view+json": {
       "model_id": "12bb6b28446f4fb1b7df4102fdd17480",
       "version_major": 2,
       "version_minor": 0
      },
      "text/plain": [
       "Sigma(nx.DiGraph with 366 nodes and 1,107 edges)"
      ]
     },
     "metadata": {},
     "output_type": "display_data"
    }
   ],
   "source": [
    "# node_border_ratio\n",
    "Sigma(\n",
    "    g,\n",
    "    hide_info_panel=True,\n",
    "    node_label='Label2',\n",
    "    label_rendered_size_threshold=100,\n",
    "    node_size_range=(2, 11),\n",
    "    node_border_ratio=g.degree,\n",
    "    default_node_border_color='black'\n",
    ")"
   ]
  },
  {
   "cell_type": "code",
   "execution_count": 11,
   "id": "dc4d3401-aa07-47eb-8925-44086e278b2d",
   "metadata": {},
   "outputs": [
    {
     "data": {
      "application/vnd.jupyter.widget-view+json": {
       "model_id": "2c45da3d678d4bae954ff0ece471a78d",
       "version_major": 2,
       "version_minor": 0
      },
      "text/plain": [
       "Sigma(nx.DiGraph with 366 nodes and 1,107 edges)"
      ]
     },
     "metadata": {},
     "output_type": "display_data"
    }
   ],
   "source": [
    "# node_border_color\n",
    "Sigma(\n",
    "    g,\n",
    "    hide_info_panel=True,\n",
    "    node_label='Label2',\n",
    "    label_rendered_size_threshold=100,\n",
    "    node_size_range=(2, 11),\n",
    "    raw_node_color=None,\n",
    "    raw_node_border_color='color',\n",
    "    default_node_color='white'\n",
    ")"
   ]
  },
  {
   "cell_type": "code",
   "execution_count": 12,
   "id": "290d4c66-78e4-4e38-8bab-bac15edb3e9c",
   "metadata": {},
   "outputs": [
    {
     "data": {
      "application/vnd.jupyter.widget-view+json": {
       "model_id": "13101449bff349c79669d112f2f33f4e",
       "version_major": 2,
       "version_minor": 0
      },
      "text/plain": [
       "Sigma(nx.DiGraph with 366 nodes and 1,107 edges)"
      ]
     },
     "metadata": {},
     "output_type": "display_data"
    }
   ],
   "source": [
    "# node_pictogram\n",
    "Sigma(\n",
    "    g,\n",
    "    hide_info_panel=True,\n",
    "    node_label='Label2',\n",
    "    label_rendered_size_threshold=100,\n",
    "    node_size_range=(2, 11),\n",
    "    raw_node_pictogram=lambda: 'close' if random() > 0.5 else 'done',\n",
    "    default_node_pictogram_color='white'\n",
    ")"
   ]
  },
  {
   "cell_type": "code",
   "execution_count": 13,
   "id": "50cc9c23-e854-4105-aef7-e5326d8bed44",
   "metadata": {},
   "outputs": [
    {
     "data": {
      "application/vnd.jupyter.widget-view+json": {
       "model_id": "91ca2f5cc04b4d1da3e9ad5c97bff5cf",
       "version_major": 2,
       "version_minor": 0
      },
      "text/plain": [
       "Sigma(nx.DiGraph with 366 nodes and 1,107 edges)"
      ]
     },
     "metadata": {},
     "output_type": "display_data"
    }
   ],
   "source": [
    "# node_pictogram_color\n",
    "Sigma(\n",
    "    g,\n",
    "    hide_info_panel=True,\n",
    "    node_label='Label2',\n",
    "    label_rendered_size_threshold=100,\n",
    "    node_size_range=(2, 11),\n",
    "    raw_node_pictogram=lambda: 'close' if random() > 0.5 else 'hive',\n",
    "    node_pictogram_color='color',\n",
    "    raw_node_color=None,\n",
    "    default_node_color='white'\n",
    ")"
   ]
  },
  {
   "cell_type": "code",
   "execution_count": 14,
   "id": "c2d1e6b9-d739-4ad2-9b94-2195cbbc784e",
   "metadata": {},
   "outputs": [
    {
     "data": {
      "application/vnd.jupyter.widget-view+json": {
       "model_id": "4c137da29d30463db9e067ff1627b7fa",
       "version_major": 2,
       "version_minor": 0
      },
      "text/plain": [
       "Sigma(nx.DiGraph with 366 nodes and 1,107 edges)"
      ]
     },
     "metadata": {},
     "output_type": "display_data"
    }
   ],
   "source": [
    "# node_shape\n",
    "Sigma(\n",
    "    g,\n",
    "    hide_info_panel=True,\n",
    "    node_label='Label2',\n",
    "    label_rendered_size_threshold=100,\n",
    "    node_size_range=(2, 11),\n",
    "    node_shape='Language'\n",
    ")"
   ]
  },
  {
   "cell_type": "code",
   "execution_count": 15,
   "id": "0db0aeae-1b86-446b-8e7b-42b9f7bf5d66",
   "metadata": {},
   "outputs": [
    {
     "data": {
      "application/vnd.jupyter.widget-view+json": {
       "model_id": "d094a4d32f1c424189c936d5e73d56e8",
       "version_major": 2,
       "version_minor": 0
      },
      "text/plain": [
       "Sigma(nx.DiGraph with 366 nodes and 1,107 edges)"
      ]
     },
     "metadata": {},
     "output_type": "display_data"
    }
   ],
   "source": [
    "# node_halo_size\n",
    "Sigma(\n",
    "    g,\n",
    "    hide_info_panel=True,\n",
    "    node_label='Label2',\n",
    "    label_rendered_size_threshold=100,\n",
    "    node_size_range=(2, 11),\n",
    "    raw_node_color=None,\n",
    "    node_halo_size=g.degree\n",
    ")"
   ]
  },
  {
   "cell_type": "code",
   "execution_count": 16,
   "id": "a825dad8-87ea-47df-aa0e-e4ece1415b49",
   "metadata": {},
   "outputs": [
    {
     "data": {
      "application/vnd.jupyter.widget-view+json": {
       "model_id": "66fa773a056e44d5b8e8ebf157a2e7ca",
       "version_major": 2,
       "version_minor": 0
      },
      "text/plain": [
       "Sigma(nx.DiGraph with 366 nodes and 1,107 edges)"
      ]
     },
     "metadata": {},
     "output_type": "display_data"
    }
   ],
   "source": [
    "# node_halo_color\n",
    "Sigma(\n",
    "    g,\n",
    "    hide_info_panel=True,\n",
    "    node_label='Label2',\n",
    "    label_rendered_size_threshold=100,\n",
    "    node_size_range=(2, 11),\n",
    "    raw_node_color=None,\n",
    "    node_halo_size=g.degree,\n",
    "    raw_node_halo_color='color'\n",
    ")"
   ]
  },
  {
   "cell_type": "code",
   "execution_count": 18,
   "id": "d1aaee60-a95e-4813-afb1-39050d31df01",
   "metadata": {},
   "outputs": [
    {
     "data": {
      "application/vnd.jupyter.widget-view+json": {
       "model_id": "bfbf653c4b2249ea9cde04efb87181bb",
       "version_major": 2,
       "version_minor": 0
      },
      "text/plain": [
       "Sigma(nx.DiGraph with 366 nodes and 1,107 edges)"
      ]
     },
     "metadata": {},
     "output_type": "display_data"
    }
   ],
   "source": [
    "# edge_color\n",
    "Sigma(\n",
    "    g,\n",
    "    hide_info_panel=True,\n",
    "    node_label='Label2',\n",
    "    label_rendered_size_threshold=100,\n",
    "    node_size_range=(2, 11),\n",
    "    raw_node_color=None,\n",
    "    edge_color=lambda u: g.nodes[u]['Language']\n",
    ")"
   ]
  },
  {
   "cell_type": "code",
   "execution_count": 19,
   "id": "938c7a36-f127-44d4-ab1a-d71e5b79a7dd",
   "metadata": {},
   "outputs": [
    {
     "data": {
      "application/vnd.jupyter.widget-view+json": {
       "model_id": "394173f925fc4deda2aac63e568bc287",
       "version_major": 2,
       "version_minor": 0
      },
      "text/plain": [
       "Sigma(nx.DiGraph with 366 nodes and 1,107 edges)"
      ]
     },
     "metadata": {},
     "output_type": "display_data"
    }
   ],
   "source": [
    "# edge_type\n",
    "Sigma(\n",
    "    g,\n",
    "    hide_info_panel=True,\n",
    "    node_label='Label2',\n",
    "    label_rendered_size_threshold=100,\n",
    "    node_size_range=(2, 11),\n",
    "    default_edge_type='curve'\n",
    ")"
   ]
  },
  {
   "cell_type": "code",
   "execution_count": 21,
   "id": "fb9fe4e1-6214-41f5-9ddc-604fb6f071fe",
   "metadata": {},
   "outputs": [
    {
     "data": {
      "application/vnd.jupyter.widget-view+json": {
       "model_id": "feea45575593410f9d9df6665f90ddf3",
       "version_major": 2,
       "version_minor": 0
      },
      "text/plain": [
       "Sigma(nx.DiGraph with 366 nodes and 1,107 edges)"
      ]
     },
     "metadata": {},
     "output_type": "display_data"
    }
   ],
   "source": [
    "# edge_curveness\n",
    "Sigma(\n",
    "    g,\n",
    "    hide_info_panel=True,\n",
    "    node_label='Label2',\n",
    "    label_rendered_size_threshold=100,\n",
    "    node_size_range=(2, 11),\n",
    "    default_edge_type='curve',\n",
    "    default_edge_curveness=0.7\n",
    ")"
   ]
  },
  {
   "cell_type": "code",
   "execution_count": 22,
   "id": "9bf84099-97da-4ba7-b754-eb00f09af839",
   "metadata": {},
   "outputs": [
    {
     "data": {
      "application/vnd.jupyter.widget-view+json": {
       "model_id": "5718071f599f42738606c02336a666c5",
       "version_major": 2,
       "version_minor": 0
      },
      "text/plain": [
       "Sigma(nx.DiGraph with 366 nodes and 1,107 edges)"
      ]
     },
     "metadata": {},
     "output_type": "display_data"
    }
   ],
   "source": [
    "# edge_size\n",
    "Sigma(\n",
    "    g,\n",
    "    hide_info_panel=True,\n",
    "    node_label='Label2',\n",
    "    label_rendered_size_threshold=100,\n",
    "    node_size_range=(2, 11),\n",
    "    edge_size=lambda u: g.degree(u)\n",
    ")"
   ]
  },
  {
   "cell_type": "code",
   "execution_count": 24,
   "id": "7e1b73a9-97d8-453c-88b3-7f5eec6d7a2a",
   "metadata": {},
   "outputs": [
    {
     "data": {
      "application/vnd.jupyter.widget-view+json": {
       "model_id": "bd563f2d06934ac9b192d2955c1548df",
       "version_major": 2,
       "version_minor": 0
      },
      "text/plain": [
       "Sigma(nx.DiGraph with 366 nodes and 1,107 edges)"
      ]
     },
     "metadata": {},
     "output_type": "display_data"
    }
   ],
   "source": [
    "# edge_label\n",
    "Sigma(\n",
    "    g,\n",
    "    hide_info_panel=True,\n",
    "    node_label='Label2',\n",
    "    label_rendered_size_threshold=1,\n",
    "    node_size_range=(2, 11),\n",
    "    edge_label=lambda u: g.nodes[u]['Label2']\n",
    ")"
   ]
  }
 ],
 "metadata": {
  "kernelspec": {
   "display_name": "Python 3",
   "language": "python",
   "name": "python3"
  },
  "language_info": {
   "codemirror_mode": {
    "name": "ipython",
    "version": 3
   },
   "file_extension": ".py",
   "mimetype": "text/x-python",
   "name": "python",
   "nbconvert_exporter": "python",
   "pygments_lexer": "ipython3",
   "version": "3.6.10"
  }
 },
 "nbformat": 4,
 "nbformat_minor": 5
}
