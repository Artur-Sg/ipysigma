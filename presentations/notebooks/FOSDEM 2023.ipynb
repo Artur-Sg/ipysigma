{
 "cells": [
  {
   "cell_type": "code",
   "execution_count": 1,
   "id": "7b8bda8e-979b-42d3-a4d2-abb27ae6ac39",
   "metadata": {},
   "outputs": [],
   "source": [
    "from ipysigma import Sigma\n",
    "import networkx as nx\n",
    "import csv"
   ]
  },
  {
   "cell_type": "code",
   "execution_count": 2,
   "id": "21f59985-678b-413e-92a2-eb6cc1fc5e84",
   "metadata": {},
   "outputs": [],
   "source": [
    "with open('../data/fosdem-tracks-pseudo.csv') as f:\n",
    "    data = list(csv.DictReader(f))"
   ]
  },
  {
   "cell_type": "code",
   "execution_count": 3,
   "id": "c7161e9b-a919-404e-ae3c-dab95e752171",
   "metadata": {},
   "outputs": [
    {
     "name": "stdout",
     "output_type": "stream",
     "text": [
      "year = 2007\n",
      "event_id = 12\n",
      "track = openingclosingtalks\n",
      "title = Welcome\n",
      "speakers_name = Nial Keiona\n"
     ]
    }
   ],
   "source": [
    "for key, value in data[0].items():\n",
    "    if value:\n",
    "        print(key, '=', value)"
   ]
  },
  {
   "cell_type": "code",
   "execution_count": 14,
   "id": "f0673304-f82d-4476-b2a7-feadf1e804aa",
   "metadata": {},
   "outputs": [],
   "source": [
    "graph = nx.Graph()\n",
    "\n",
    "for row in data:\n",
    "    if not row['speakers_name']:\n",
    "        continue\n",
    "        \n",
    "    track = row['track']\n",
    "    year = row['year']\n",
    "    \n",
    "    graph.add_node(track, part='track')\n",
    "    \n",
    "    for speaker in row['speakers_name'].split('|'):\n",
    "        graph.add_node(speaker, part='speaker')\n",
    "        \n",
    "        # Keeping info about last pair (most recent)\n",
    "        if not graph.has_edge(speaker, track):\n",
    "            graph.add_edge(speaker, track, count=1, year=year)\n",
    "        else:\n",
    "            graph[speaker][track]['count'] += 1\n",
    "            graph[speaker][track]['year'] = year"
   ]
  },
  {
   "cell_type": "code",
   "execution_count": 15,
   "id": "cc49ba78-f14d-4f19-b5f4-fcd252abc38d",
   "metadata": {},
   "outputs": [
    {
     "data": {
      "text/plain": [
       "(5108, 6210)"
      ]
     },
     "execution_count": 15,
     "metadata": {},
     "output_type": "execute_result"
    }
   ],
   "source": [
    "graph.order(), graph.size()"
   ]
  },
  {
   "cell_type": "code",
   "execution_count": 16,
   "id": "0aaf769f-117a-48f6-85e1-95b99b67e0a3",
   "metadata": {},
   "outputs": [
    {
     "data": {
      "application/vnd.jupyter.widget-view+json": {
       "model_id": "ca0ee72dc55a45d0b2e8c8a53b288853",
       "version_major": 2,
       "version_minor": 0
      },
      "text/plain": [
       "Sigma(nx.Graph with 5,108 nodes and 6,210 edges)"
      ]
     },
     "metadata": {},
     "output_type": "display_data"
    }
   ],
   "source": [
    "Sigma(graph, node_size=graph.degree, node_color='part', edge_size='count', node_border_color_from='node', node_size_range=(2, 20))"
   ]
  },
  {
   "cell_type": "code",
   "execution_count": 46,
   "id": "57e4f6c9-1670-41ca-a5b0-4882d664a513",
   "metadata": {},
   "outputs": [],
   "source": [
    "YEAR_2010 = lambda n: sum(1 if a['year'] == '2012' else 0 for _s, _t, a in graph.edges(n, data=True))\n",
    "YEAR_2015 = lambda n: sum(1 if a['year'] == '2022' else 0 for _s, _t, a in graph.edges(n, data=True))"
   ]
  },
  {
   "cell_type": "code",
   "execution_count": 47,
   "id": "183eac0d-b4c4-4010-9bc4-4bc3bed3cb1a",
   "metadata": {},
   "outputs": [],
   "source": [
    "from ipysigma import SigmaGrid"
   ]
  },
  {
   "cell_type": "code",
   "execution_count": 48,
   "id": "d99172ea-3f9c-46d9-bd7a-05f4f2347959",
   "metadata": {},
   "outputs": [
    {
     "data": {
      "application/vnd.jupyter.widget-view+json": {
       "model_id": "c0312058f73b4c1b8aac2af6cc31e68e",
       "version_major": 2,
       "version_minor": 0
      },
      "text/plain": [
       "VBox(children=(HBox(children=(Sigma(nx.Graph with 5,108 nodes and 6,210 edges), Sigma(nx.Graph with 5,108 node…"
      ]
     },
     "metadata": {},
     "output_type": "display_data"
    }
   ],
   "source": [
    "grid = SigmaGrid(graph, node_size=graph.degree, node_halo_color_gradient='OrRd', default_node_color='rgba(0, 0, 0, 0.0)')\n",
    "grid.add(node_halo_size=YEAR_2010, node_halo_color=YEAR_2010, node_zindex=YEAR_2010)\n",
    "grid.add(node_halo_size=YEAR_2015, node_halo_color=YEAR_2015, node_zindex=YEAR_2015)\n",
    "grid"
   ]
  },
  {
   "cell_type": "code",
   "execution_count": 7,
   "id": "2ca86113-9082-4a7f-9e84-0a77f1175e25",
   "metadata": {
    "tags": []
   },
   "outputs": [
    {
     "name": "stdout",
     "output_type": "stream",
     "text": [
      "Requirement already satisfied: pelote in /home/yomguithereal/.pyenv/versions/3.6.15/envs/ipysigma/lib/python3.6/site-packages (0.8.1)\n",
      "Requirement already satisfied: networkx<3,>=2 in /home/yomguithereal/.pyenv/versions/3.6.15/envs/ipysigma/lib/python3.6/site-packages (from pelote) (2.5.1)\n",
      "Requirement already satisfied: ebbe<2,>=1.9.0 in /home/yomguithereal/.pyenv/versions/3.6.15/envs/ipysigma/lib/python3.6/site-packages (from pelote) (1.9.0)\n",
      "Requirement already satisfied: llist in /home/yomguithereal/.pyenv/versions/3.6.15/envs/ipysigma/lib/python3.6/site-packages (from pelote) (0.7.1)\n",
      "Requirement already satisfied: decorator<5,>=4.3 in /home/yomguithereal/.pyenv/versions/3.6.15/envs/ipysigma/lib/python3.6/site-packages (from networkx<3,>=2->pelote) (4.4.2)\n"
     ]
    }
   ],
   "source": [
    "!pip install pelote"
   ]
  },
  {
   "cell_type": "code",
   "execution_count": 8,
   "id": "ea97cb6c-91e7-49dd-b0e1-833c8eb24b47",
   "metadata": {},
   "outputs": [],
   "source": [
    "from pelote import monopartite_projection, crop_to_largest_connected_component"
   ]
  },
  {
   "cell_type": "code",
   "execution_count": 9,
   "id": "edfff7e1-fa8a-415a-9d09-d954ada80421",
   "metadata": {},
   "outputs": [],
   "source": [
    "for node, attr in graph.nodes.data():\n",
    "    attr['bipartite_degree'] = graph.degree(node)"
   ]
  },
  {
   "cell_type": "code",
   "execution_count": 10,
   "id": "009a9799-d46a-44ad-8f2e-21138c7298d9",
   "metadata": {},
   "outputs": [],
   "source": [
    "mono = monopartite_projection(graph, 'track', metric='overlap')"
   ]
  },
  {
   "cell_type": "code",
   "execution_count": 11,
   "id": "cd0f5872-62b7-44fc-b5fe-a5868fb7eddb",
   "metadata": {},
   "outputs": [],
   "source": [
    "crop_to_largest_connected_component(mono)"
   ]
  },
  {
   "cell_type": "code",
   "execution_count": 12,
   "id": "c2abacd1-59bb-47c6-bec2-7bf92ad8196e",
   "metadata": {},
   "outputs": [
    {
     "data": {
      "application/vnd.jupyter.widget-view+json": {
       "model_id": "db9ea4bee9ab4cfcb324bde68bbdec1a",
       "version_major": 2,
       "version_minor": 0
      },
      "text/plain": [
       "Sigma(nx.Graph with 176 nodes and 1,283 edges)"
      ]
     },
     "metadata": {},
     "output_type": "display_data"
    }
   ],
   "source": [
    "Sigma(mono, node_size=\"bipartite_degree\", node_metrics=['louvain'], node_color='louvain', edge_size='weight')"
   ]
  }
 ],
 "metadata": {
  "kernelspec": {
   "display_name": "Python 3",
   "language": "python",
   "name": "python3"
  },
  "language_info": {
   "codemirror_mode": {
    "name": "ipython",
    "version": 3
   },
   "file_extension": ".py",
   "mimetype": "text/x-python",
   "name": "python",
   "nbconvert_exporter": "python",
   "pygments_lexer": "ipython3",
   "version": "3.6.15"
  }
 },
 "nbformat": 4,
 "nbformat_minor": 5
}
