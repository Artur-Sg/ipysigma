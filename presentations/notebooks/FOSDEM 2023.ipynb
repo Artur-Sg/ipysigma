{
 "cells": [
  {
   "cell_type": "code",
   "execution_count": null,
   "id": "7b8bda8e-979b-42d3-a4d2-abb27ae6ac39",
   "metadata": {},
   "outputs": [],
   "source": [
    "import csv\n",
    "import networkx as nx"
   ]
  },
  {
   "cell_type": "code",
   "execution_count": null,
   "id": "21f59985-678b-413e-92a2-eb6cc1fc5e84",
   "metadata": {},
   "outputs": [],
   "source": [
    "# Data collected by Laura Miguel by scraping the FOSDEM archive websites\n",
    "# from the previous years of 2007 to 2022, then pseudonymized\n",
    "\n",
    "with open('../data/fosdem-tracks-pseudo.csv') as f:\n",
    "    data = list(csv.DictReader(f))"
   ]
  },
  {
   "cell_type": "code",
   "execution_count": null,
   "id": "c7161e9b-a919-404e-ae3c-dab95e752171",
   "metadata": {},
   "outputs": [],
   "source": [
    "data[0], data[1063], data[5617]"
   ]
  },
  {
   "cell_type": "code",
   "execution_count": null,
   "id": "f0673304-f82d-4476-b2a7-feadf1e804aa",
   "metadata": {},
   "outputs": [],
   "source": [
    "# Build the graph\n",
    "\n",
    "G = nx.Graph()\n",
    "\n",
    "for row in data:\n",
    "    if not row['speakers_name']:\n",
    "        continue\n",
    "        \n",
    "    track = row['track']\n",
    "    year = row['year']\n",
    "    \n",
    "    G.add_node(track, part='track')\n",
    "    \n",
    "    for speaker in row['speakers_name'].split('|'):\n",
    "        G.add_node(speaker, part='speaker')\n",
    "        \n",
    "        # Keeping info about last pair (most recent)\n",
    "        if not G.has_edge(speaker, track):\n",
    "            G.add_edge(speaker, track, count=1, year=year)\n",
    "        else:\n",
    "            G[speaker][track]['count'] += 1\n",
    "            G[speaker][track]['year'] = year\n",
    "\n",
    "G.order(), G.size()"
   ]
  },
  {
   "cell_type": "code",
   "execution_count": null,
   "id": "29f41b58",
   "metadata": {},
   "outputs": [],
   "source": [
    "# Check this prolific contributor in recent years\n",
    "\n",
    "G.nodes[\"Clarie Nikolai\"], G[\"Clarie Nikolai\"]"
   ]
  },
  {
   "cell_type": "code",
   "execution_count": null,
   "id": "0aaf769f-117a-48f6-85e1-95b99b67e0a3",
   "metadata": {
    "scrolled": true
   },
   "outputs": [],
   "source": [
    "# Explore this bipartite graph\n",
    "\n",
    "from ipysigma import Sigma\n",
    "\n",
    "Sigma(G,\n",
    "      node_size=G.degree,\n",
    "      node_size_range=(1, 10),\n",
    "      node_color='part',\n",
    "      node_border_color_from='node',\n",
    "      edge_size='count'\n",
    "     )"
   ]
  },
  {
   "cell_type": "code",
   "execution_count": null,
   "id": "d99172ea-3f9c-46d9-bd7a-05f4f2347959",
   "metadata": {
    "scrolled": true
   },
   "outputs": [],
   "source": [
    "# Let's compare nodes based on the years they were participating to FOSDEM\n",
    "\n",
    "from ipysigma import SigmaGrid\n",
    "\n",
    "grid = SigmaGrid(G,\n",
    "                 node_size=G.degree,\n",
    "                 node_size_range=(1, 10),\n",
    "                 node_border_color_from='node',\n",
    "                 node_halo_color_gradient='OrRd',\n",
    "                 default_node_color='rgba(0, 0, 0, 0.0)',\n",
    "                 edge_size='count'\n",
    "                )\n",
    "\n",
    "YEAR_2012 = lambda n: sum(1 for _s, _t, a in G.edges(n, data=True) if a['year'] == '2012')\n",
    "YEAR_2022 = lambda n: sum(1 for _s, _t, a in G.edges(n, data=True) if a['year'] == '2022' )\n",
    "\n",
    "grid.add(node_halo_size=YEAR_2012, node_halo_color=YEAR_2012, node_zindex=YEAR_2012)\n",
    "grid.add(node_halo_size=YEAR_2022, node_halo_color=YEAR_2022, node_zindex=YEAR_2022)"
   ]
  },
  {
   "cell_type": "code",
   "execution_count": null,
   "id": "2ca86113-9082-4a7f-9e84-0a77f1175e25",
   "metadata": {
    "tags": []
   },
   "outputs": [],
   "source": [
    "# Let's explore further by reprocessing our graph with pelote's toolkit\n",
    "\n",
    "!pip install pelote"
   ]
  },
  {
   "cell_type": "code",
   "execution_count": null,
   "id": "009a9799-d46a-44ad-8f2e-21138c7298d9",
   "metadata": {},
   "outputs": [],
   "source": [
    "from pelote import monopartite_projection\n",
    "\n",
    "mono = monopartite_projection(G, 'track', metric='overlap')"
   ]
  },
  {
   "cell_type": "code",
   "execution_count": null,
   "id": "125abea1",
   "metadata": {},
   "outputs": [],
   "source": [
    "Sigma(mono,\n",
    "      node_size=G.degree,\n",
    "      node_size_range=(1, 10),\n",
    "      node_metrics=['louvain'],\n",
    "      node_color='louvain',\n",
    "      node_border_color_from='node',\n",
    "      edge_size='weight'\n",
    "     )"
   ]
  },
  {
   "cell_type": "code",
   "execution_count": null,
   "id": "cd0f5872-62b7-44fc-b5fe-a5868fb7eddb",
   "metadata": {},
   "outputs": [],
   "source": [
    "from pelote import crop_to_largest_connected_component\n",
    "\n",
    "crop_to_largest_connected_component(mono)"
   ]
  },
  {
   "cell_type": "code",
   "execution_count": null,
   "id": "c2abacd1-59bb-47c6-bec2-7bf92ad8196e",
   "metadata": {},
   "outputs": [],
   "source": [
    "Sigma(mono,\n",
    "      node_size=G.degree,\n",
    "      node_size_range=(1, 10),\n",
    "      node_metrics=['louvain'],\n",
    "      node_color='louvain',\n",
    "      node_border_color_from='node',\n",
    "      edge_size='weight'\n",
    "     )"
   ]
  }
 ],
 "metadata": {
  "kernelspec": {
   "display_name": "Python 3 (ipykernel)",
   "language": "python",
   "name": "python3"
  },
  "language_info": {
   "codemirror_mode": {
    "name": "ipython",
    "version": 3
   },
   "file_extension": ".py",
   "mimetype": "text/x-python",
   "name": "python",
   "nbconvert_exporter": "python",
   "pygments_lexer": "ipython3",
   "version": "3.9.5"
  }
 },
 "nbformat": 4,
 "nbformat_minor": 5
}
