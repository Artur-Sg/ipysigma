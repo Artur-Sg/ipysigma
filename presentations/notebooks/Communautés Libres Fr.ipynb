{
 "cells": [
  {
   "cell_type": "code",
   "execution_count": null,
   "id": "c58e75d1",
   "metadata": {},
   "outputs": [],
   "source": [
    "import networkx as nx"
   ]
  },
  {
   "cell_type": "code",
   "execution_count": null,
   "id": "82b1d907",
   "metadata": {},
   "outputs": [],
   "source": [
    "G = nx.read_gexf('../data/communautes-libres-fr.gexf')\n",
    "\n",
    "G.order(), G.size()"
   ]
  },
  {
   "cell_type": "code",
   "execution_count": null,
   "id": "f639f591",
   "metadata": {},
   "outputs": [],
   "source": [
    "G.nodes[\"1\"]"
   ]
  },
  {
   "cell_type": "code",
   "execution_count": null,
   "id": "b4be9d53",
   "metadata": {},
   "outputs": [],
   "source": [
    "from ipysigma import Sigma\n",
    "\n",
    "Sigma(G)"
   ]
  },
  {
   "cell_type": "code",
   "execution_count": null,
   "id": "a63b2f7d",
   "metadata": {},
   "outputs": [],
   "source": [
    "Sigma(G, node_size=\"pages_crawled\")"
   ]
  },
  {
   "cell_type": "code",
   "execution_count": null,
   "id": "adc3d966",
   "metadata": {},
   "outputs": [],
   "source": [
    "Sigma(G,\n",
    "      node_size=\"pages_crawled\",\n",
    "      node_size_range=(2, 10)\n",
    "     )"
   ]
  },
  {
   "cell_type": "code",
   "execution_count": null,
   "id": "731c928e",
   "metadata": {},
   "outputs": [],
   "source": [
    "Sigma(G,\n",
    "      node_size=\"pages_crawled\",\n",
    "      node_size_range=(2, 10),\n",
    "      node_metrics=[\"louvain\"],\n",
    "      node_color=\"louvain\"\n",
    "     )"
   ]
  },
  {
   "cell_type": "code",
   "execution_count": null,
   "id": "6d710bf3",
   "metadata": {},
   "outputs": [],
   "source": [
    "# So far, Gephi-like but by coding\n",
    "# Here's something new"
   ]
  },
  {
   "cell_type": "code",
   "execution_count": null,
   "id": "95539891",
   "metadata": {},
   "outputs": [],
   "source": [
    "from ipysigma import SigmaGrid\n",
    "\n",
    "grid = SigmaGrid(G,\n",
    "                 node_size_range=(2, 10),\n",
    "                 node_metrics=[\"louvain\"],\n",
    "                 node_color=\"louvain\",\n",
    "                )\n",
    "grid.add(node_size=G.in_degree)\n",
    "grid.add(node_size=G.out_degree)"
   ]
  },
  {
   "cell_type": "code",
   "execution_count": null,
   "id": "0354cccb",
   "metadata": {},
   "outputs": [],
   "source": []
  }
 ],
 "metadata": {
  "kernelspec": {
   "display_name": "Python 3 (ipykernel)",
   "language": "python",
   "name": "python3"
  },
  "language_info": {
   "codemirror_mode": {
    "name": "ipython",
    "version": 3
   },
   "file_extension": ".py",
   "mimetype": "text/x-python",
   "name": "python",
   "nbconvert_exporter": "python",
   "pygments_lexer": "ipython3",
   "version": "3.9.5"
  }
 },
 "nbformat": 4,
 "nbformat_minor": 5
}
